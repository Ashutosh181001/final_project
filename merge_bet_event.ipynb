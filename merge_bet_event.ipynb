{
 "cells": [
  {
   "cell_type": "code",
   "execution_count": 1,
   "id": "ce7f09f6-c6f4-4cc9-bea2-beffb9899445",
   "metadata": {},
   "outputs": [],
   "source": [
    "import pandas as pd\n",
    "import numpy as np\n",
    "import matplotlib.pyplot as plt"
   ]
  },
  {
   "cell_type": "markdown",
   "id": "f1a8c634-125a-4c8a-9e16-0fb1d73a29a6",
   "metadata": {},
   "source": [
    "### Loading DataFrames"
   ]
  },
  {
   "cell_type": "code",
   "execution_count": 8,
   "id": "fb4e62c3-8a93-418a-bda7-3090aab64195",
   "metadata": {},
   "outputs": [],
   "source": [
    "event_df = pd.read_csv('processed_df/event_df.csv')\n",
    "bet_df = pd.read_csv('processed_df/betting_df.csv')\n",
    "\n",
    "#Creating timestamps for the relevant columns\n",
    "event_df[\"publishTime\"] = pd.to_datetime(event_df['publishTime'])\n",
    "bet_df[\"publishTime\"] = pd.to_datetime(bet_df['publishTime'])"
   ]
  },
  {
   "cell_type": "code",
   "execution_count": 9,
   "id": "f9736a45-80cf-4552-b71a-4bf1b23fe96d",
   "metadata": {},
   "outputs": [],
   "source": [
    "# Group both datasets by 'match_id'\n",
    "grouped_events = event_df.groupby('match_id')\n",
    "grouped_betting = bet_df.groupby('match_id')\n",
    "flag = True\n",
    "sample = None\n",
    "eve_sam = None\n",
    "\n",
    "# Initialize an empty list to hold the merged dataframes for each match\n",
    "merged_datasets = []\n",
    "\n",
    "# Iterate over each match_id in the events dataset\n",
    "for match_id, event_group in grouped_events:\n",
    "    # Find the corresponding betting group for the current match_id\n",
    "    if match_id in grouped_betting.groups:\n",
    "        betting_group = grouped_betting.get_group(match_id)\n",
    "        \n",
    "        # Perform the merge_asof operation for the current match\n",
    "        merged_match_data = pd.merge_asof(event_group, betting_group, on='publishTime', direction='nearest')\n",
    "        if flag:\n",
    "            bet_sam = betting_group\n",
    "            eve_sam = event_group\n",
    "            flag = False\n",
    "        # Append the result to the list of merged datasets\n",
    "        merged_datasets.append(merged_match_data)\n",
    "\n",
    "# Concatenate all the merged datasets into one dataframe\n",
    "full_merged_dataset = pd.concat(merged_datasets, ignore_index=True)"
   ]
  },
  {
   "cell_type": "code",
   "execution_count": 10,
   "id": "3710c0c1-1503-4e85-9a1a-da605536cca5",
   "metadata": {},
   "outputs": [],
   "source": [
    "full_merged_dataset.to_csv(\"processed_df/bet_event_df.csv\", index= False)"
   ]
  }
 ],
 "metadata": {
  "kernelspec": {
   "display_name": "Python 3 (ipykernel)",
   "language": "python",
   "name": "python3"
  },
  "language_info": {
   "codemirror_mode": {
    "name": "ipython",
    "version": 3
   },
   "file_extension": ".py",
   "mimetype": "text/x-python",
   "name": "python",
   "nbconvert_exporter": "python",
   "pygments_lexer": "ipython3",
   "version": "3.10.14"
  }
 },
 "nbformat": 4,
 "nbformat_minor": 5
}
